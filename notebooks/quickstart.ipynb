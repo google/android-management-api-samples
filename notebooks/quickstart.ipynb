{
  "cells": [
    {
      "cell_type": "markdown",
      "metadata": {
        "id": "lbI8y3v1G6OM"
      },
      "source": [
        "#### Copyright 2022 Google LLC.\n",
        "\n",
        "Licensed under the Apache License, Version 2.0 (the \"License\");"
      ]
    },
    {
      "cell_type": "code",
      "execution_count": null,
      "metadata": {
        "id": "JxL-8R6KHRtK"
      },
      "outputs": [],
      "source": [
        "# Licensed under the Apache License, Version 2.0 (the \"License\");\n",
        "# you may not use this file except in compliance with the License.\n",
        "# You may obtain a copy of the License at\n",
        "\n",
        "# https://www.apache.org/licenses/LICENSE-2.0\n",
        "\n",
        "# Unless required by applicable law or agreed to in writing, software\n",
        "# distributed under the License is distributed on an \"AS IS\" BASIS,\n",
        "# WITHOUT WARRANTIES OR CONDITIONS OF ANY KIND, either express or implied.\n",
        "# See the License for the specific language governing permissions and\n",
        "# limitations under the License."
      ]
    },
    {
      "cell_type": "markdown",
      "metadata": {
        "id": "3Sf3qQL9CrIG"
      },
      "source": [
        "# Android Management API - Quickstart\n",
        "\n",
        "This notebook shows you how to get started with the Android Management API. Follow\n",
        "the steps below to enroll an enterprise, create a policy, and provision a device.\n",
        "\n",
        "In order to run this notebook, you need:\n",
        "\n",
        "*   An Android 6.0+ device.\n",
        "*   A Gmail account. This account cannot be associated with an existing enterprise.\n",
        "\n",
        "## Setup\n",
        "\n",
        "The base resource of your Android Management solution is a Google Cloud Platform project. All other resources (`Enterprises`, `Devices`, `Policies`, etc) belong to the project and the project controls access to these resources. A solution is typically associated with a single project, but you can create multiple projects if you want to restrict access to resources.\n",
        "\n",
        "You can create a project in the Google Cloud Console:\n",
        "\n",
        "1. [**Go to the Cloud Console**](https://console.cloud.google.com/cloud-resource-manager).\n",
        "2. Click **CREATE PROJECT**.\n",
        "3. Enter your project details, and then click **CREATE**.\n",
        "2. Take note of the **project ID** and **paste it in the cell below**, then **run the cell**.\n",
        "\n",
        "To run a cell:\n",
        "\n",
        "1. Click anywhere in the code block.\n",
        "2. Click the \u0026#9654; button in the top-left of the code block.\n"
      ]
    },
    {
      "cell_type": "code",
      "execution_count": null,
      "metadata": {
        "id": "orawejuC9GHB"
      },
      "outputs": [],
      "source": [
        "# Paste your project ID here.\n",
        "cloud_project_id = ''"
      ]
    },
    {
      "cell_type": "markdown",
      "metadata": {
        "id": "n3FaCG1wJAO7"
      },
      "source": [
        "To create and access resources, you need to authenticate with an account that has edit rights over your project. To start the authentication flow, **run the cell below**.\n",
        "\n",
        "When you build a server-based solution, you should create a\n",
        "[service account](https://developers.google.com/android/management/service-account)\n",
        "so you don't need to authorize the access every time."
      ]
    },
    {
      "cell_type": "code",
      "execution_count": null,
      "metadata": {
        "id": "8myK1D6uy7HR"
      },
      "outputs": [],
      "source": [
        "from apiclient.discovery import build\n",
        "from google_auth_oauthlib.flow import Flow\n",
        "\n",
        "# This is a public OAuth config that you can use to run this guide.\n",
        "# However, use different credentials when building your own solution.\n",
        "CLIENT_CONFIG = {\n",
        "  'web': {\n",
        "    'client_id':'882252295571-m8qpit609pj2hsql4j5k0bue1injrtd2.apps.googleusercontent.com',\n",
        "    'auth_uri':'https://accounts.google.com/o/oauth2/auth',\n",
        "    'token_uri':'https://oauth2.googleapis.com/token',\n",
        "    'auth_provider_x509_cert_url':'https://www.googleapis.com/oauth2/v1/certs',\n",
        "    'client_secret':'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'\n",
        "  }\n",
        "}\n",
        "SCOPES = ['https://www.googleapis.com/auth/androidmanagement']\n",
        "CALLBACK_URL = 'https://google.github.io/android-management-api-samples/oauth_callback.html'\n",
        "\n",
        "# Run the OAuth flow.\n",
        "flow = Flow.from_client_config(CLIENT_CONFIG, SCOPES)\n",
        "flow.redirect_uri = CALLBACK_URL\n",
        "auth_url, _ = flow.authorization_url()\n",
        "print('Please visit this URL to authorize this application: {}'.format(auth_url))\n",
        "\n",
        "code = input('Enter the authorization code: ')\n",
        "flow.fetch_token(code=code)\n",
        "\n",
        "# Create the API client.\n",
        "androidmanagement = build('androidmanagement', 'v1', credentials=flow.credentials)\n",
        "\n",
        "print('\\nAuthentication succeeded.')"
      ]
    },
    {
      "cell_type": "markdown",
      "metadata": {
        "id": "bsnuDBT7JQ9O"
      },
      "source": [
        "## Create an enterprise\n",
        "\n",
        "An **`Enterprise`** resource binds an organization to your Android Management solution.\n",
        "**`Devices`** and **`Policies`** both belong to an enterprise. Typically, a single enterprise\n",
        "resource is associated with a single organization. However, you can create multiple\n",
        "enterprises for the same organization based on their needs. For example, an\n",
        "organization may want separate enterprises for its different departments or regions.\n",
        "\n",
        "To create an enterprise you need a **Gmail account** that's not already associated with\n",
        "an enterprise.\n",
        "\n",
        "To start the enterprise creation flow, **run the cell below**.\n",
        "\n",
        "If you've already created an enterprise for this project, you can skip this step and enter your enterprise name in the next cell.  "
      ]
    },
    {
      "cell_type": "code",
      "execution_count": null,
      "metadata": {
        "id": "TSeTmD7Y85NQ"
      },
      "outputs": [],
      "source": [
        "CALLBACK_URL = 'https://storage.googleapis.com/android-management-quick-start/enterprise_signup_callback.html'\n",
        "\n",
        "# Generate a signup URL where the enterprise admin can signup with a Gmail\n",
        "# account.\n",
        "signup_url = androidmanagement.signupUrls().create(\n",
        "    projectId=cloud_project_id,\n",
        "    callbackUrl=CALLBACK_URL\n",
        ").execute()\n",
        "\n",
        "print('Please visit this URL to create an enterprise:', signup_url['url'])\n",
        "\n",
        "enterprise_token = input('Enter the code: ')\n",
        "\n",
        "# Complete the creation of the enterprise and retrieve the enterprise name.\n",
        "enterprise = androidmanagement.enterprises().create(\n",
        "    projectId=cloud_project_id,\n",
        "    signupUrlName=signup_url['name'],\n",
        "    enterpriseToken=enterprise_token,\n",
        "    body={}\n",
        ").execute()\n",
        "\n",
        "enterprise_name = enterprise['name']\n",
        "\n",
        "print('\\nYour enterprise name is', enterprise_name)"
      ]
    },
    {
      "cell_type": "markdown",
      "metadata": {
        "id": "PnWwzIFyJXQS"
      },
      "source": [
        "Take note of the enterprise name so you can reuse it after you close this notebook.\n",
        "\n",
        "If you already have an enterprise, you can enter the enterprise name in the cell below and run the cell."
      ]
    },
    {
      "cell_type": "code",
      "execution_count": null,
      "metadata": {
        "id": "R4rNq_O_BNBJ"
      },
      "outputs": [],
      "source": [
        "# Paste your enterprise name here.\n",
        "enterprise_name = ''"
      ]
    },
    {
      "cell_type": "markdown",
      "metadata": {
        "id": "urkbkf7zJgqN"
      },
      "source": [
        "## Create a policy\n",
        "\n",
        "A **`Policy`** is a group of settings that determine the behavior of a managed device\n",
        "and the apps installed on it. Each Policy resource represents a unique group of device\n",
        "and app settings and can be applied to one or more devices. Once a device is linked to\n",
        "a policy, any updates to the policy are automatically applied to the device.\n",
        "\n",
        "To create a basic policy, **run the cell below**. You'll see how to create more advanced policies later in this guide."
      ]
    },
    {
      "cell_type": "code",
      "execution_count": null,
      "metadata": {
        "id": "pjHfDSb8BoBP"
      },
      "outputs": [],
      "source": [
        "import json\n",
        "\n",
        "policy_name = enterprise_name + '/policies/policy1'\n",
        "\n",
        "policy_json = '''\n",
        "{\n",
        "  \"applications\": [\n",
        "    {\n",
        "      \"packageName\": \"com.google.samples.apps.iosched\",\n",
        "      \"installType\": \"FORCE_INSTALLED\"\n",
        "    }\n",
        "  ],\n",
        "  \"advancedSecurityOverrides\": {\n",
        "     \"developerSettings\": \"DEVELOPER_SETTINGS_ALLOWED\"\n",
        "  }\n",
        "}\n",
        "'''\n",
        "\n",
        "androidmanagement.enterprises().policies().patch(\n",
        "    name=policy_name,\n",
        "    body=json.loads(policy_json)\n",
        ").execute()"
      ]
    },
    {
      "cell_type": "markdown",
      "metadata": {
        "id": "SyxrXcIMJuDF"
      },
      "source": [
        "## Provision a device\n",
        "\n",
        "Provisioning refers to the process of enrolling a device with an enterprise, applying the appropriate policies to the device, and guiding the user to complete the set up of their device in accordance with those policies. Before attempting to provision a device, ensure that the device is running Android 6.0 or above.\n",
        "\n",
        "You need an enrollment token for each device that you want to provision (you can use the same token for multiple devices), when creating a token you can specify a policy that will be applied to the device."
      ]
    },
    {
      "cell_type": "code",
      "execution_count": null,
      "metadata": {
        "id": "JPYgBZSmCEil"
      },
      "outputs": [],
      "source": [
        "enrollment_token = androidmanagement.enterprises().enrollmentTokens().create(\n",
        "    parent=enterprise_name,\n",
        "    body={\"policyName\": policy_name}\n",
        ").execute()"
      ]
    },
    {
      "cell_type": "markdown",
      "metadata": {
        "id": "zmq6yvGsJ3pJ"
      },
      "source": [
        "Embed your enrollment token in either an enrollment link or a QR code, and then follow the provisioning instructions below."
      ]
    },
    {
      "cell_type": "code",
      "execution_count": null,
      "metadata": {
        "id": "TTSgnpC9EScx"
      },
      "outputs": [],
      "source": [
        "from IPython.display import display, HTML\n",
        "\n",
        "qr_code_content = enrollment_token['qrCode']\n",
        "qr_code_settings = {\n",
        "  'text': qr_code_content,\n",
        "  'width': 500,\n",
        "  'height': 500\n",
        "}\n",
        "\n",
        "display(HTML('''\n",
        "  \u003cdiv id=\"qr_code\" style=\"padding: 16px; background: #FFF; width: 500px;\"\u003e\u003c/div\u003e\n",
        "  \u003cscript type=\"text/javascript\" src=\"//cdn.rawgit.com/davidshimjs/qrcodejs/gh-pages/qrcode.min.js\"\u003e\u003c/script\u003e\n",
        "  \u003cscript type=\"text/javascript\"\u003e\n",
        "    new QRCode(document.getElementById(\"qr_code\"), {});\n",
        "  \u003c/script\u003e\n",
        "'''.format(qr_code_settings)))"
      ]
    },
    {
      "cell_type": "code",
      "execution_count": null,
      "metadata": {
        "id": "7ICRh_3UsiU4"
      },
      "outputs": [],
      "source": [
        "enrollment_link = 'https://enterprise.google.com/android/enroll?et=' + enrollment_token['value']\n",
        "\n",
        "print('Please open this link on your device:', enrollment_link)"
      ]
    },
    {
      "cell_type": "markdown",
      "metadata": {
        "id": "hcdeKcrIfM5H"
      },
      "source": [
        "The method for provisioning a device varies depending on the management mode you want to use.\n",
        "\n",
        "### Fully managed mode\n",
        "\n",
        "In **fully managed mode** the entire device is managed and the device needs to be factory reset before setup. To set up a device in fully managed mode you need to use a QR code.\n",
        "\n",
        "For devices running Android 7.0 or above:\n",
        "\n",
        "1.  Turn on a new or factory-reset device.\n",
        "2.  Tap the same spot on the welcome screen six times to enter QR code mode.\n",
        "3.  Connect to a WiFi network.\n",
        "4.  Scan the QR code.\n",
        "\n",
        "For devices running Android 6.0:\n",
        "\n",
        "1.  Turn on a new or factory-reset device.\n",
        "2.  Follow the setup wizard and enter your Wi-Fi details.\n",
        "3.  When prompted to sign in, enter **afw#setup**.\n",
        "4.  Tap Next, and then accept the installation of Android Device Policy.\n",
        "5.  Scan the QR code.\n",
        "\n",
        "### Work profile mode\n",
        "\n",
        "In **work profile mode** corporate apps and data are kept secure in a self-contained work profile while the user keeps control of the rest of the device. To set up a work profile you can either use a QR code or an enrollment link.\n",
        "\n",
        "Using the enrollment link:\n",
        "\n",
        "1.  Make the link accessible on the device (send it via email or put it on a website).\n",
        "2.  Open the link.\n",
        "\n",
        "Or using the QR code:\n",
        "\n",
        "1.  Go to **Settings** \u003e **Google**.\n",
        "2.  Tap \"Set up your work profile\".\n",
        "3.  Scan the QR code.\n",
        "\n",
        "## What's next?\n",
        "\n",
        "By now you should have a managed device configured with a basic policy, but there's\n",
        "much more you can do with the Android Management API.\n",
        "\n",
        "First, we recommend\n",
        "[**exploring the range of available policies**](https://developers.google.com/android/management/create-policy)\n",
        "to build the right policy for your needs.  \n",
        "\n",
        "Next, explore other features of the Android Management API:\n",
        "\n",
        "*   Learn how to [discover apps](https://developers.google.com/android/management/apps)\n",
        "*   Set up [Pub/Sub notifications](https://developers.google.com/android/management/notifications)\n",
        "\n",
        "Or start developing a server-based solution:\n",
        "\n",
        "*   Download the Android Management API client library for\n",
        "    [Java](https://developers.google.com/api-client-library/java/apis/androidmanagement/v1),\n",
        "    [.NET](https://developers.google.com/api-client-library/dotnet/apis/androidmanagement/v1),\n",
        "    [Python](https://developers.google.com/api-client-library/python/apis/androidmanagement/v1),\n",
        "    or [Ruby](https://developers.google.com/api-client-library/ruby/apis/androidmanagement/v1).\n",
        "*   Create a [service account](https://developers.google.com/android/management/service-account).\n",
        "\n"
      ]
    }
  ],
  "metadata": {
    "colab": {
      "collapsed_sections": [
        "lbI8y3v1G6OM"
      ],
      "name": "Android Management API - Quickstart",
      "private_outputs": true,
      "provenance": [],
      "toc_visible": true
    },
    "kernelspec": {
      "display_name": "Python 3",
      "name": "python3"
    }
  },
  "nbformat": 4,
  "nbformat_minor": 0
}
